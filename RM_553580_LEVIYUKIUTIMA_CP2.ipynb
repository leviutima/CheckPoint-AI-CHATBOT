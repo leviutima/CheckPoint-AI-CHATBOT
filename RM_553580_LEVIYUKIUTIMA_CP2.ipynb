{
 "cells": [
  {
   "cell_type": "code",
   "execution_count": 294,
   "metadata": {},
   "outputs": [
    {
     "name": "stdout",
     "output_type": "stream",
     "text": [
      "Requirement already satisfied: numpy in c:\\python312\\lib\\site-packages (1.26.4)\n",
      "Requirement already satisfied: pandas in c:\\python312\\lib\\site-packages (2.2.2)\n",
      "Requirement already satisfied: numpy>=1.26.0 in c:\\python312\\lib\\site-packages (from pandas) (1.26.4)\n",
      "Requirement already satisfied: python-dateutil>=2.8.2 in c:\\users\\minel\\appdata\\roaming\\python\\python312\\site-packages (from pandas) (2.9.0.post0)\n",
      "Requirement already satisfied: pytz>=2020.1 in c:\\python312\\lib\\site-packages (from pandas) (2024.1)\n",
      "Requirement already satisfied: tzdata>=2022.7 in c:\\python312\\lib\\site-packages (from pandas) (2024.1)\n",
      "Requirement already satisfied: six>=1.5 in c:\\users\\minel\\appdata\\roaming\\python\\python312\\site-packages (from python-dateutil>=2.8.2->pandas) (1.16.0)\n",
      "Requirement already satisfied: matplotlib in c:\\users\\minel\\appdata\\roaming\\python\\python312\\site-packages (3.8.4)\n",
      "Requirement already satisfied: contourpy>=1.0.1 in c:\\users\\minel\\appdata\\roaming\\python\\python312\\site-packages (from matplotlib) (1.2.1)\n",
      "Requirement already satisfied: cycler>=0.10 in c:\\users\\minel\\appdata\\roaming\\python\\python312\\site-packages (from matplotlib) (0.12.1)\n",
      "Requirement already satisfied: fonttools>=4.22.0 in c:\\python312\\lib\\site-packages (from matplotlib) (4.51.0)\n",
      "Requirement already satisfied: kiwisolver>=1.3.1 in c:\\python312\\lib\\site-packages (from matplotlib) (1.4.5)\n",
      "Requirement already satisfied: numpy>=1.21 in c:\\python312\\lib\\site-packages (from matplotlib) (1.26.4)\n",
      "Requirement already satisfied: packaging>=20.0 in c:\\users\\minel\\appdata\\roaming\\python\\python312\\site-packages (from matplotlib) (24.0)\n",
      "Requirement already satisfied: pillow>=8 in c:\\python312\\lib\\site-packages (from matplotlib) (10.3.0)\n",
      "Requirement already satisfied: pyparsing>=2.3.1 in c:\\python312\\lib\\site-packages (from matplotlib) (3.1.2)\n",
      "Requirement already satisfied: python-dateutil>=2.7 in c:\\users\\minel\\appdata\\roaming\\python\\python312\\site-packages (from matplotlib) (2.9.0.post0)\n",
      "Requirement already satisfied: six>=1.5 in c:\\users\\minel\\appdata\\roaming\\python\\python312\\site-packages (from python-dateutil>=2.7->matplotlib) (1.16.0)\n"
     ]
    }
   ],
   "source": [
    "import pandas as pd\n",
    "!pip install numpy\n",
    "!pip install pandas\n",
    "!pip install --user matplotlib\n",
    "import numpy as np\n",
    "import matplotlib.pyplot as plt\n",
    "import seaborn as sns\n",
    "from sklearn.model_selection import train_test_split\n",
    "from sklearn.tree import DecisionTreeClassifier\n",
    "from sklearn.metrics import confusion_matrix, classification_report"
   ]
  },
  {
   "cell_type": "markdown",
   "metadata": {},
   "source": [
    "<h1>Descrever o objetivo do modelo considerando a estrutura do conjunto de dados - o que se pretende solucionar?</h1>"
   ]
  },
  {
   "cell_type": "markdown",
   "metadata": {},
   "source": [
    "<p> O objetivo desta analise é obter dados e características sobre filmes e programas de Tv listados no catálogo da netflix, podendo incluir dados como: titulo, tipo, diretor, elenco, país de origem do filme, série ou programa de TV, duração, etc. Com base na coleta de dados poderemos ter a análise sobre a popularidade com o publico.</p>\n",
    "------------------------------------------------------------------------------------------------------------------------------------------------------------------------------------------------------------------------------"
   ]
  },
  {
   "cell_type": "markdown",
   "metadata": {},
   "source": [
    "<h2>Descrever o conjunto de dados escolhido. Indique os seguintes pontos:</h2>\n",
    "<p>Origem: https://www.kaggle.com/datasets/shivamb/netflix-shows</p>\n",
    "<p>Nome: Netflix Movies and Tv Shows </p>\n",
    "<p>Tamanho: 1.368KB </p>\n",
    "<p>Quantidade de Registros: 101.377</p>\n",
    "<p>Linhas x Colunas: 8807x12 </p>\n",
    "<p>Dados Faltantes: 4307</p>"
   ]
  },
  {
   "cell_type": "markdown",
   "metadata": {},
   "source": [
    "<h2>Criar 03 (três) modelos de classificação:</h2>\n",
    "<span>Encontrar um conjunto de dados que atenda os requisitos para classificação (variável resposta)</span>"
   ]
  },
  {
   "cell_type": "markdown",
   "metadata": {},
   "source": [
    "Ao analisarmos o .CSV podemos listar ao menos três tipos de classificações:\n",
    "\n",
    "<li>Tipo(type)</li>\n",
    "<li>Faixa etária (rating)</li>\n",
    "<li>Id (s1)</li>"
   ]
  },
  {
   "cell_type": "code",
   "execution_count": 295,
   "metadata": {},
   "outputs": [],
   "source": [
    "#primeira importação do CSV\n",
    "dados = pd.read_csv('../cp/netflix_titles.csv')"
   ]
  },
  {
   "cell_type": "code",
   "execution_count": 296,
   "metadata": {},
   "outputs": [
    {
     "data": {
      "text/html": [
       "<div>\n",
       "<style scoped>\n",
       "    .dataframe tbody tr th:only-of-type {\n",
       "        vertical-align: middle;\n",
       "    }\n",
       "\n",
       "    .dataframe tbody tr th {\n",
       "        vertical-align: top;\n",
       "    }\n",
       "\n",
       "    .dataframe thead th {\n",
       "        text-align: right;\n",
       "    }\n",
       "</style>\n",
       "<table border=\"1\" class=\"dataframe\">\n",
       "  <thead>\n",
       "    <tr style=\"text-align: right;\">\n",
       "      <th></th>\n",
       "      <th>Unnamed: 0.1</th>\n",
       "      <th>Unnamed: 0</th>\n",
       "      <th>show_id</th>\n",
       "      <th>type</th>\n",
       "      <th>title</th>\n",
       "      <th>director</th>\n",
       "      <th>cast</th>\n",
       "      <th>country</th>\n",
       "      <th>date_added</th>\n",
       "      <th>release_year</th>\n",
       "      <th>rating</th>\n",
       "      <th>duration</th>\n",
       "      <th>listed_in</th>\n",
       "      <th>description</th>\n",
       "      <th>avaliacao</th>\n",
       "    </tr>\n",
       "  </thead>\n",
       "  <tbody>\n",
       "    <tr>\n",
       "      <th>0</th>\n",
       "      <td>0</td>\n",
       "      <td>0</td>\n",
       "      <td>s1</td>\n",
       "      <td>Movie</td>\n",
       "      <td>Dick Johnson Is Dead</td>\n",
       "      <td>Kirsten Johnson</td>\n",
       "      <td>NaN</td>\n",
       "      <td>United States</td>\n",
       "      <td>September 25, 2021</td>\n",
       "      <td>2020</td>\n",
       "      <td>PG-13</td>\n",
       "      <td>90 min</td>\n",
       "      <td>Documentaries</td>\n",
       "      <td>As her father nears the end of his life, filmm...</td>\n",
       "      <td>10</td>\n",
       "    </tr>\n",
       "    <tr>\n",
       "      <th>1</th>\n",
       "      <td>1</td>\n",
       "      <td>1</td>\n",
       "      <td>s2</td>\n",
       "      <td>TV Show</td>\n",
       "      <td>Blood &amp; Water</td>\n",
       "      <td>NaN</td>\n",
       "      <td>Ama Qamata, Khosi Ngema, Gail Mabalane, Thaban...</td>\n",
       "      <td>South Africa</td>\n",
       "      <td>September 24, 2021</td>\n",
       "      <td>2021</td>\n",
       "      <td>TV-MA</td>\n",
       "      <td>2 Seasons</td>\n",
       "      <td>International TV Shows, TV Dramas, TV Mysteries</td>\n",
       "      <td>After crossing paths at a party, a Cape Town t...</td>\n",
       "      <td>10</td>\n",
       "    </tr>\n",
       "    <tr>\n",
       "      <th>2</th>\n",
       "      <td>2</td>\n",
       "      <td>2</td>\n",
       "      <td>s3</td>\n",
       "      <td>TV Show</td>\n",
       "      <td>Ganglands</td>\n",
       "      <td>Julien Leclercq</td>\n",
       "      <td>Sami Bouajila, Tracy Gotoas, Samuel Jouy, Nabi...</td>\n",
       "      <td>NaN</td>\n",
       "      <td>September 24, 2021</td>\n",
       "      <td>2021</td>\n",
       "      <td>TV-MA</td>\n",
       "      <td>1 Season</td>\n",
       "      <td>Crime TV Shows, International TV Shows, TV Act...</td>\n",
       "      <td>To protect his family from a powerful drug lor...</td>\n",
       "      <td>10</td>\n",
       "    </tr>\n",
       "    <tr>\n",
       "      <th>3</th>\n",
       "      <td>3</td>\n",
       "      <td>3</td>\n",
       "      <td>s4</td>\n",
       "      <td>TV Show</td>\n",
       "      <td>Jailbirds New Orleans</td>\n",
       "      <td>NaN</td>\n",
       "      <td>NaN</td>\n",
       "      <td>NaN</td>\n",
       "      <td>September 24, 2021</td>\n",
       "      <td>2021</td>\n",
       "      <td>TV-MA</td>\n",
       "      <td>1 Season</td>\n",
       "      <td>Docuseries, Reality TV</td>\n",
       "      <td>Feuds, flirtations and toilet talk go down amo...</td>\n",
       "      <td>10</td>\n",
       "    </tr>\n",
       "    <tr>\n",
       "      <th>4</th>\n",
       "      <td>4</td>\n",
       "      <td>4</td>\n",
       "      <td>s5</td>\n",
       "      <td>TV Show</td>\n",
       "      <td>Kota Factory</td>\n",
       "      <td>NaN</td>\n",
       "      <td>Mayur More, Jitendra Kumar, Ranjan Raj, Alam K...</td>\n",
       "      <td>India</td>\n",
       "      <td>September 24, 2021</td>\n",
       "      <td>2021</td>\n",
       "      <td>TV-MA</td>\n",
       "      <td>2 Seasons</td>\n",
       "      <td>International TV Shows, Romantic TV Shows, TV ...</td>\n",
       "      <td>In a city of coaching centers known to train I...</td>\n",
       "      <td>10</td>\n",
       "    </tr>\n",
       "    <tr>\n",
       "      <th>5</th>\n",
       "      <td>5</td>\n",
       "      <td>5</td>\n",
       "      <td>s6</td>\n",
       "      <td>TV Show</td>\n",
       "      <td>Midnight Mass</td>\n",
       "      <td>Mike Flanagan</td>\n",
       "      <td>Kate Siegel, Zach Gilford, Hamish Linklater, H...</td>\n",
       "      <td>NaN</td>\n",
       "      <td>September 24, 2021</td>\n",
       "      <td>2021</td>\n",
       "      <td>TV-MA</td>\n",
       "      <td>1 Season</td>\n",
       "      <td>TV Dramas, TV Horror, TV Mysteries</td>\n",
       "      <td>The arrival of a charismatic young priest brin...</td>\n",
       "      <td>10</td>\n",
       "    </tr>\n",
       "    <tr>\n",
       "      <th>6</th>\n",
       "      <td>6</td>\n",
       "      <td>6</td>\n",
       "      <td>s7</td>\n",
       "      <td>Movie</td>\n",
       "      <td>My Little Pony: A New Generation</td>\n",
       "      <td>Robert Cullen, José Luis Ucha</td>\n",
       "      <td>Vanessa Hudgens, Kimiko Glenn, James Marsden, ...</td>\n",
       "      <td>NaN</td>\n",
       "      <td>September 24, 2021</td>\n",
       "      <td>2021</td>\n",
       "      <td>PG</td>\n",
       "      <td>91 min</td>\n",
       "      <td>Children &amp; Family Movies</td>\n",
       "      <td>Equestria's divided. But a bright-eyed hero be...</td>\n",
       "      <td>10</td>\n",
       "    </tr>\n",
       "    <tr>\n",
       "      <th>7</th>\n",
       "      <td>7</td>\n",
       "      <td>7</td>\n",
       "      <td>s8</td>\n",
       "      <td>Movie</td>\n",
       "      <td>Sankofa</td>\n",
       "      <td>Haile Gerima</td>\n",
       "      <td>Kofi Ghanaba, Oyafunmike Ogunlano, Alexandra D...</td>\n",
       "      <td>United States, Ghana, Burkina Faso, United Kin...</td>\n",
       "      <td>September 24, 2021</td>\n",
       "      <td>1993</td>\n",
       "      <td>TV-MA</td>\n",
       "      <td>125 min</td>\n",
       "      <td>Dramas, Independent Movies, International Movies</td>\n",
       "      <td>On a photo shoot in Ghana, an American model s...</td>\n",
       "      <td>10</td>\n",
       "    </tr>\n",
       "    <tr>\n",
       "      <th>8</th>\n",
       "      <td>8</td>\n",
       "      <td>8</td>\n",
       "      <td>s9</td>\n",
       "      <td>TV Show</td>\n",
       "      <td>The Great British Baking Show</td>\n",
       "      <td>Andy Devonshire</td>\n",
       "      <td>Mel Giedroyc, Sue Perkins, Mary Berry, Paul Ho...</td>\n",
       "      <td>United Kingdom</td>\n",
       "      <td>September 24, 2021</td>\n",
       "      <td>2021</td>\n",
       "      <td>TV-14</td>\n",
       "      <td>9 Seasons</td>\n",
       "      <td>British TV Shows, Reality TV</td>\n",
       "      <td>A talented batch of amateur bakers face off in...</td>\n",
       "      <td>10</td>\n",
       "    </tr>\n",
       "    <tr>\n",
       "      <th>9</th>\n",
       "      <td>9</td>\n",
       "      <td>9</td>\n",
       "      <td>s10</td>\n",
       "      <td>Movie</td>\n",
       "      <td>The Starling</td>\n",
       "      <td>Theodore Melfi</td>\n",
       "      <td>Melissa McCarthy, Chris O'Dowd, Kevin Kline, T...</td>\n",
       "      <td>United States</td>\n",
       "      <td>September 24, 2021</td>\n",
       "      <td>2021</td>\n",
       "      <td>PG-13</td>\n",
       "      <td>104 min</td>\n",
       "      <td>Comedies, Dramas</td>\n",
       "      <td>A woman adjusting to life after a loss contend...</td>\n",
       "      <td>10</td>\n",
       "    </tr>\n",
       "    <tr>\n",
       "      <th>10</th>\n",
       "      <td>10</td>\n",
       "      <td>10</td>\n",
       "      <td>s11</td>\n",
       "      <td>TV Show</td>\n",
       "      <td>Vendetta: Truth, Lies and The Mafia</td>\n",
       "      <td>NaN</td>\n",
       "      <td>NaN</td>\n",
       "      <td>NaN</td>\n",
       "      <td>September 24, 2021</td>\n",
       "      <td>2021</td>\n",
       "      <td>TV-MA</td>\n",
       "      <td>1 Season</td>\n",
       "      <td>Crime TV Shows, Docuseries, International TV S...</td>\n",
       "      <td>Sicily boasts a bold \"Anti-Mafia\" coalition. B...</td>\n",
       "      <td>10</td>\n",
       "    </tr>\n",
       "  </tbody>\n",
       "</table>\n",
       "</div>"
      ],
      "text/plain": [
       "    Unnamed: 0.1  Unnamed: 0 show_id     type  \\\n",
       "0              0           0      s1    Movie   \n",
       "1              1           1      s2  TV Show   \n",
       "2              2           2      s3  TV Show   \n",
       "3              3           3      s4  TV Show   \n",
       "4              4           4      s5  TV Show   \n",
       "5              5           5      s6  TV Show   \n",
       "6              6           6      s7    Movie   \n",
       "7              7           7      s8    Movie   \n",
       "8              8           8      s9  TV Show   \n",
       "9              9           9     s10    Movie   \n",
       "10            10          10     s11  TV Show   \n",
       "\n",
       "                                  title                       director  \\\n",
       "0                  Dick Johnson Is Dead                Kirsten Johnson   \n",
       "1                         Blood & Water                            NaN   \n",
       "2                             Ganglands                Julien Leclercq   \n",
       "3                 Jailbirds New Orleans                            NaN   \n",
       "4                          Kota Factory                            NaN   \n",
       "5                         Midnight Mass                  Mike Flanagan   \n",
       "6      My Little Pony: A New Generation  Robert Cullen, José Luis Ucha   \n",
       "7                               Sankofa                   Haile Gerima   \n",
       "8         The Great British Baking Show                Andy Devonshire   \n",
       "9                          The Starling                 Theodore Melfi   \n",
       "10  Vendetta: Truth, Lies and The Mafia                            NaN   \n",
       "\n",
       "                                                 cast  \\\n",
       "0                                                 NaN   \n",
       "1   Ama Qamata, Khosi Ngema, Gail Mabalane, Thaban...   \n",
       "2   Sami Bouajila, Tracy Gotoas, Samuel Jouy, Nabi...   \n",
       "3                                                 NaN   \n",
       "4   Mayur More, Jitendra Kumar, Ranjan Raj, Alam K...   \n",
       "5   Kate Siegel, Zach Gilford, Hamish Linklater, H...   \n",
       "6   Vanessa Hudgens, Kimiko Glenn, James Marsden, ...   \n",
       "7   Kofi Ghanaba, Oyafunmike Ogunlano, Alexandra D...   \n",
       "8   Mel Giedroyc, Sue Perkins, Mary Berry, Paul Ho...   \n",
       "9   Melissa McCarthy, Chris O'Dowd, Kevin Kline, T...   \n",
       "10                                                NaN   \n",
       "\n",
       "                                              country          date_added  \\\n",
       "0                                       United States  September 25, 2021   \n",
       "1                                        South Africa  September 24, 2021   \n",
       "2                                                 NaN  September 24, 2021   \n",
       "3                                                 NaN  September 24, 2021   \n",
       "4                                               India  September 24, 2021   \n",
       "5                                                 NaN  September 24, 2021   \n",
       "6                                                 NaN  September 24, 2021   \n",
       "7   United States, Ghana, Burkina Faso, United Kin...  September 24, 2021   \n",
       "8                                      United Kingdom  September 24, 2021   \n",
       "9                                       United States  September 24, 2021   \n",
       "10                                                NaN  September 24, 2021   \n",
       "\n",
       "    release_year rating   duration  \\\n",
       "0           2020  PG-13     90 min   \n",
       "1           2021  TV-MA  2 Seasons   \n",
       "2           2021  TV-MA   1 Season   \n",
       "3           2021  TV-MA   1 Season   \n",
       "4           2021  TV-MA  2 Seasons   \n",
       "5           2021  TV-MA   1 Season   \n",
       "6           2021     PG     91 min   \n",
       "7           1993  TV-MA    125 min   \n",
       "8           2021  TV-14  9 Seasons   \n",
       "9           2021  PG-13    104 min   \n",
       "10          2021  TV-MA   1 Season   \n",
       "\n",
       "                                            listed_in  \\\n",
       "0                                       Documentaries   \n",
       "1     International TV Shows, TV Dramas, TV Mysteries   \n",
       "2   Crime TV Shows, International TV Shows, TV Act...   \n",
       "3                              Docuseries, Reality TV   \n",
       "4   International TV Shows, Romantic TV Shows, TV ...   \n",
       "5                  TV Dramas, TV Horror, TV Mysteries   \n",
       "6                            Children & Family Movies   \n",
       "7    Dramas, Independent Movies, International Movies   \n",
       "8                        British TV Shows, Reality TV   \n",
       "9                                    Comedies, Dramas   \n",
       "10  Crime TV Shows, Docuseries, International TV S...   \n",
       "\n",
       "                                          description  avaliacao  \n",
       "0   As her father nears the end of his life, filmm...         10  \n",
       "1   After crossing paths at a party, a Cape Town t...         10  \n",
       "2   To protect his family from a powerful drug lor...         10  \n",
       "3   Feuds, flirtations and toilet talk go down amo...         10  \n",
       "4   In a city of coaching centers known to train I...         10  \n",
       "5   The arrival of a charismatic young priest brin...         10  \n",
       "6   Equestria's divided. But a bright-eyed hero be...         10  \n",
       "7   On a photo shoot in Ghana, an American model s...         10  \n",
       "8   A talented batch of amateur bakers face off in...         10  \n",
       "9   A woman adjusting to life after a loss contend...         10  \n",
       "10  Sicily boasts a bold \"Anti-Mafia\" coalition. B...         10  "
      ]
     },
     "execution_count": 296,
     "metadata": {},
     "output_type": "execute_result"
    }
   ],
   "source": [
    "#Imprimindo primeiros dez dados do csv\n",
    "dados.head(11)"
   ]
  },
  {
   "cell_type": "code",
   "execution_count": 297,
   "metadata": {},
   "outputs": [
    {
     "data": {
      "text/plain": [
       "8807"
      ]
     },
     "execution_count": 297,
     "metadata": {},
     "output_type": "execute_result"
    }
   ],
   "source": [
    "#Identificando o total de linhas que há no csv\n",
    "len(dados.index)"
   ]
  },
  {
   "cell_type": "code",
   "execution_count": 298,
   "metadata": {},
   "outputs": [],
   "source": [
    "#criando variavel para identificar dados faltantes para depois soma-los\n",
    "resultado = dados.isnull().sum()"
   ]
  },
  {
   "cell_type": "code",
   "execution_count": 299,
   "metadata": {},
   "outputs": [
    {
     "name": "stdout",
     "output_type": "stream",
     "text": [
      "Unnamed: 0.1       0\n",
      "Unnamed: 0         0\n",
      "show_id            0\n",
      "type               0\n",
      "title              0\n",
      "director        2634\n",
      "cast             825\n",
      "country          831\n",
      "date_added        10\n",
      "release_year       0\n",
      "rating             4\n",
      "duration           3\n",
      "listed_in          0\n",
      "description        0\n",
      "avaliacao          0\n",
      "dtype: int64\n"
     ]
    }
   ],
   "source": [
    "print(resultado)"
   ]
  },
  {
   "cell_type": "code",
   "execution_count": 300,
   "metadata": {},
   "outputs": [
    {
     "name": "stdout",
     "output_type": "stream",
     "text": [
      "<class 'pandas.core.frame.DataFrame'>\n",
      "RangeIndex: 8807 entries, 0 to 8806\n",
      "Data columns (total 15 columns):\n",
      " #   Column        Non-Null Count  Dtype \n",
      "---  ------        --------------  ----- \n",
      " 0   Unnamed: 0.1  8807 non-null   int64 \n",
      " 1   Unnamed: 0    8807 non-null   int64 \n",
      " 2   show_id       8807 non-null   object\n",
      " 3   type          8807 non-null   object\n",
      " 4   title         8807 non-null   object\n",
      " 5   director      6173 non-null   object\n",
      " 6   cast          7982 non-null   object\n",
      " 7   country       7976 non-null   object\n",
      " 8   date_added    8797 non-null   object\n",
      " 9   release_year  8807 non-null   int64 \n",
      " 10  rating        8803 non-null   object\n",
      " 11  duration      8804 non-null   object\n",
      " 12  listed_in     8807 non-null   object\n",
      " 13  description   8807 non-null   object\n",
      " 14  avaliacao     8807 non-null   int64 \n",
      "dtypes: int64(4), object(11)\n",
      "memory usage: 1.0+ MB\n"
     ]
    }
   ],
   "source": [
    "#deixando mais explicito a identificação de dados, tanto completos quanto faltantes \n",
    "dados.info()"
   ]
  },
  {
   "cell_type": "markdown",
   "metadata": {},
   "source": [
    "<h1>Descrever o pré-processamento realizado no conjunto de dados (Feature engineering):</h1>"
   ]
  },
  {
   "cell_type": "markdown",
   "metadata": {},
   "source": [
    "<p>Criação ou exclusão de variáveis:</p>"
   ]
  },
  {
   "cell_type": "code",
   "execution_count": 301,
   "metadata": {},
   "outputs": [],
   "source": [
    "exercicioDados = pd.read_csv('../cp/netflix_titles.csv')"
   ]
  },
  {
   "cell_type": "code",
   "execution_count": 302,
   "metadata": {},
   "outputs": [
    {
     "name": "stdout",
     "output_type": "stream",
     "text": [
      "                                                              0  \\\n",
      "Unnamed: 0.1                                                  0   \n",
      "Unnamed: 0                                                    0   \n",
      "show_id                                                      s1   \n",
      "type                                                      Movie   \n",
      "title                                      Dick Johnson Is Dead   \n",
      "director                                        Kirsten Johnson   \n",
      "cast                                                        NaN   \n",
      "country                                           United States   \n",
      "date_added                                   September 25, 2021   \n",
      "release_year                                               2020   \n",
      "rating                                                    PG-13   \n",
      "duration                                                 90 min   \n",
      "listed_in                                         Documentaries   \n",
      "description   As her father nears the end of his life, filmm...   \n",
      "avaliacao                                                    10   \n",
      "\n",
      "                                                              1  \\\n",
      "Unnamed: 0.1                                                  1   \n",
      "Unnamed: 0                                                    1   \n",
      "show_id                                                      s2   \n",
      "type                                                    TV Show   \n",
      "title                                             Blood & Water   \n",
      "director                                                    NaN   \n",
      "cast          Ama Qamata, Khosi Ngema, Gail Mabalane, Thaban...   \n",
      "country                                            South Africa   \n",
      "date_added                                   September 24, 2021   \n",
      "release_year                                               2021   \n",
      "rating                                                    TV-MA   \n",
      "duration                                              2 Seasons   \n",
      "listed_in       International TV Shows, TV Dramas, TV Mysteries   \n",
      "description   After crossing paths at a party, a Cape Town t...   \n",
      "avaliacao                                                    10   \n",
      "\n",
      "                                                              2  \\\n",
      "Unnamed: 0.1                                                  2   \n",
      "Unnamed: 0                                                    2   \n",
      "show_id                                                      s3   \n",
      "type                                                    TV Show   \n",
      "title                                                 Ganglands   \n",
      "director                                        Julien Leclercq   \n",
      "cast          Sami Bouajila, Tracy Gotoas, Samuel Jouy, Nabi...   \n",
      "country                                                     NaN   \n",
      "date_added                                   September 24, 2021   \n",
      "release_year                                               2021   \n",
      "rating                                                    TV-MA   \n",
      "duration                                               1 Season   \n",
      "listed_in     Crime TV Shows, International TV Shows, TV Act...   \n",
      "description   To protect his family from a powerful drug lor...   \n",
      "avaliacao                                                    10   \n",
      "\n",
      "                                                              3  \\\n",
      "Unnamed: 0.1                                                  3   \n",
      "Unnamed: 0                                                    3   \n",
      "show_id                                                      s4   \n",
      "type                                                    TV Show   \n",
      "title                                     Jailbirds New Orleans   \n",
      "director                                                    NaN   \n",
      "cast                                                        NaN   \n",
      "country                                                     NaN   \n",
      "date_added                                   September 24, 2021   \n",
      "release_year                                               2021   \n",
      "rating                                                    TV-MA   \n",
      "duration                                               1 Season   \n",
      "listed_in                                Docuseries, Reality TV   \n",
      "description   Feuds, flirtations and toilet talk go down amo...   \n",
      "avaliacao                                                    10   \n",
      "\n",
      "                                                              4  \n",
      "Unnamed: 0.1                                                  4  \n",
      "Unnamed: 0                                                    4  \n",
      "show_id                                                      s5  \n",
      "type                                                    TV Show  \n",
      "title                                              Kota Factory  \n",
      "director                                                    NaN  \n",
      "cast          Mayur More, Jitendra Kumar, Ranjan Raj, Alam K...  \n",
      "country                                                   India  \n",
      "date_added                                   September 24, 2021  \n",
      "release_year                                               2021  \n",
      "rating                                                    TV-MA  \n",
      "duration                                              2 Seasons  \n",
      "listed_in     International TV Shows, Romantic TV Shows, TV ...  \n",
      "description   In a city of coaching centers known to train I...  \n",
      "avaliacao                                                    10  \n"
     ]
    }
   ],
   "source": [
    "#printando os dados do csv de maneira mais organizada com o 'transpose'\n",
    "print(exercicioDados.head(5).transpose())"
   ]
  },
  {
   "cell_type": "code",
   "execution_count": 303,
   "metadata": {},
   "outputs": [
    {
     "name": "stdout",
     "output_type": "stream",
     "text": [
      "Index(['Unnamed: 0.1', 'Unnamed: 0', 'show_id', 'type', 'title', 'director',\n",
      "       'cast', 'country', 'date_added', 'release_year', 'rating', 'duration',\n",
      "       'listed_in', 'description', 'avaliacao'],\n",
      "      dtype='object')\n"
     ]
    }
   ],
   "source": [
    "#deixando mais explicito o nome das colunas para evitar erros\n",
    "print(exercicioDados.columns)"
   ]
  },
  {
   "cell_type": "markdown",
   "metadata": {},
   "source": [
    "<h4>EXCLUSÃO DE ID:</h4>"
   ]
  },
  {
   "cell_type": "code",
   "execution_count": 304,
   "metadata": {},
   "outputs": [],
   "source": [
    "#identificador do Id\n",
    "idDelete = 's1'"
   ]
  },
  {
   "cell_type": "code",
   "execution_count": 305,
   "metadata": {},
   "outputs": [],
   "source": [
    "#transformando a variavel anterior em uma variavel que armazena o nome da coluna para indentifica-la\n",
    "dadosExcluir = exercicioDados.index[exercicioDados['show_id'] == idDelete].tolist()[0]\n"
   ]
  },
  {
   "cell_type": "code",
   "execution_count": 306,
   "metadata": {},
   "outputs": [],
   "source": [
    "#dropando o id reconhecido pela coluna\n",
    "exercicioDados = exercicioDados.drop(dadosExcluir)"
   ]
  },
  {
   "cell_type": "code",
   "execution_count": 307,
   "metadata": {},
   "outputs": [
    {
     "name": "stdout",
     "output_type": "stream",
     "text": [
      "                                                              1  \\\n",
      "Unnamed: 0.1                                                  1   \n",
      "Unnamed: 0                                                    1   \n",
      "show_id                                                      s2   \n",
      "type                                                    TV Show   \n",
      "title                                             Blood & Water   \n",
      "director                                                    NaN   \n",
      "cast          Ama Qamata, Khosi Ngema, Gail Mabalane, Thaban...   \n",
      "country                                            South Africa   \n",
      "date_added                                   September 24, 2021   \n",
      "release_year                                               2021   \n",
      "rating                                                    TV-MA   \n",
      "duration                                              2 Seasons   \n",
      "listed_in       International TV Shows, TV Dramas, TV Mysteries   \n",
      "description   After crossing paths at a party, a Cape Town t...   \n",
      "avaliacao                                                    10   \n",
      "\n",
      "                                                              2  \\\n",
      "Unnamed: 0.1                                                  2   \n",
      "Unnamed: 0                                                    2   \n",
      "show_id                                                      s3   \n",
      "type                                                    TV Show   \n",
      "title                                                 Ganglands   \n",
      "director                                        Julien Leclercq   \n",
      "cast          Sami Bouajila, Tracy Gotoas, Samuel Jouy, Nabi...   \n",
      "country                                                     NaN   \n",
      "date_added                                   September 24, 2021   \n",
      "release_year                                               2021   \n",
      "rating                                                    TV-MA   \n",
      "duration                                               1 Season   \n",
      "listed_in     Crime TV Shows, International TV Shows, TV Act...   \n",
      "description   To protect his family from a powerful drug lor...   \n",
      "avaliacao                                                    10   \n",
      "\n",
      "                                                              3  \\\n",
      "Unnamed: 0.1                                                  3   \n",
      "Unnamed: 0                                                    3   \n",
      "show_id                                                      s4   \n",
      "type                                                    TV Show   \n",
      "title                                     Jailbirds New Orleans   \n",
      "director                                                    NaN   \n",
      "cast                                                        NaN   \n",
      "country                                                     NaN   \n",
      "date_added                                   September 24, 2021   \n",
      "release_year                                               2021   \n",
      "rating                                                    TV-MA   \n",
      "duration                                               1 Season   \n",
      "listed_in                                Docuseries, Reality TV   \n",
      "description   Feuds, flirtations and toilet talk go down amo...   \n",
      "avaliacao                                                    10   \n",
      "\n",
      "                                                              4  \n",
      "Unnamed: 0.1                                                  4  \n",
      "Unnamed: 0                                                    4  \n",
      "show_id                                                      s5  \n",
      "type                                                    TV Show  \n",
      "title                                              Kota Factory  \n",
      "director                                                    NaN  \n",
      "cast          Mayur More, Jitendra Kumar, Ranjan Raj, Alam K...  \n",
      "country                                                   India  \n",
      "date_added                                   September 24, 2021  \n",
      "release_year                                               2021  \n",
      "rating                                                    TV-MA  \n",
      "duration                                              2 Seasons  \n",
      "listed_in     International TV Shows, Romantic TV Shows, TV ...  \n",
      "description   In a city of coaching centers known to train I...  \n",
      "avaliacao                                                    10  \n"
     ]
    }
   ],
   "source": [
    "#printando os resultados\n",
    "print(exercicioDados.head(4).transpose())"
   ]
  },
  {
   "cell_type": "markdown",
   "metadata": {},
   "source": [
    "<h4>Criação de variável: </h4>"
   ]
  },
  {
   "cell_type": "code",
   "execution_count": 308,
   "metadata": {},
   "outputs": [],
   "source": [
    "#importando csv para ter melhor visualização das variáveis\n",
    "criacaoVariavel = pd.read_csv('../cp/netflix_titles.csv')"
   ]
  },
  {
   "cell_type": "code",
   "execution_count": 309,
   "metadata": {},
   "outputs": [
    {
     "data": {
      "text/html": [
       "<div>\n",
       "<style scoped>\n",
       "    .dataframe tbody tr th:only-of-type {\n",
       "        vertical-align: middle;\n",
       "    }\n",
       "\n",
       "    .dataframe tbody tr th {\n",
       "        vertical-align: top;\n",
       "    }\n",
       "\n",
       "    .dataframe thead th {\n",
       "        text-align: right;\n",
       "    }\n",
       "</style>\n",
       "<table border=\"1\" class=\"dataframe\">\n",
       "  <thead>\n",
       "    <tr style=\"text-align: right;\">\n",
       "      <th></th>\n",
       "      <th>Unnamed: 0.1</th>\n",
       "      <th>Unnamed: 0</th>\n",
       "      <th>show_id</th>\n",
       "      <th>type</th>\n",
       "      <th>title</th>\n",
       "      <th>director</th>\n",
       "      <th>cast</th>\n",
       "      <th>country</th>\n",
       "      <th>date_added</th>\n",
       "      <th>release_year</th>\n",
       "      <th>rating</th>\n",
       "      <th>duration</th>\n",
       "      <th>listed_in</th>\n",
       "      <th>description</th>\n",
       "      <th>avaliacao</th>\n",
       "    </tr>\n",
       "  </thead>\n",
       "  <tbody>\n",
       "    <tr>\n",
       "      <th>0</th>\n",
       "      <td>0</td>\n",
       "      <td>0</td>\n",
       "      <td>s1</td>\n",
       "      <td>Movie</td>\n",
       "      <td>Dick Johnson Is Dead</td>\n",
       "      <td>Kirsten Johnson</td>\n",
       "      <td>NaN</td>\n",
       "      <td>United States</td>\n",
       "      <td>September 25, 2021</td>\n",
       "      <td>2020</td>\n",
       "      <td>PG-13</td>\n",
       "      <td>90 min</td>\n",
       "      <td>Documentaries</td>\n",
       "      <td>As her father nears the end of his life, filmm...</td>\n",
       "      <td>10</td>\n",
       "    </tr>\n",
       "    <tr>\n",
       "      <th>1</th>\n",
       "      <td>1</td>\n",
       "      <td>1</td>\n",
       "      <td>s2</td>\n",
       "      <td>TV Show</td>\n",
       "      <td>Blood &amp; Water</td>\n",
       "      <td>NaN</td>\n",
       "      <td>Ama Qamata, Khosi Ngema, Gail Mabalane, Thaban...</td>\n",
       "      <td>South Africa</td>\n",
       "      <td>September 24, 2021</td>\n",
       "      <td>2021</td>\n",
       "      <td>TV-MA</td>\n",
       "      <td>2 Seasons</td>\n",
       "      <td>International TV Shows, TV Dramas, TV Mysteries</td>\n",
       "      <td>After crossing paths at a party, a Cape Town t...</td>\n",
       "      <td>10</td>\n",
       "    </tr>\n",
       "    <tr>\n",
       "      <th>2</th>\n",
       "      <td>2</td>\n",
       "      <td>2</td>\n",
       "      <td>s3</td>\n",
       "      <td>TV Show</td>\n",
       "      <td>Ganglands</td>\n",
       "      <td>Julien Leclercq</td>\n",
       "      <td>Sami Bouajila, Tracy Gotoas, Samuel Jouy, Nabi...</td>\n",
       "      <td>NaN</td>\n",
       "      <td>September 24, 2021</td>\n",
       "      <td>2021</td>\n",
       "      <td>TV-MA</td>\n",
       "      <td>1 Season</td>\n",
       "      <td>Crime TV Shows, International TV Shows, TV Act...</td>\n",
       "      <td>To protect his family from a powerful drug lor...</td>\n",
       "      <td>10</td>\n",
       "    </tr>\n",
       "  </tbody>\n",
       "</table>\n",
       "</div>"
      ],
      "text/plain": [
       "   Unnamed: 0.1  Unnamed: 0 show_id     type                 title  \\\n",
       "0             0           0      s1    Movie  Dick Johnson Is Dead   \n",
       "1             1           1      s2  TV Show         Blood & Water   \n",
       "2             2           2      s3  TV Show             Ganglands   \n",
       "\n",
       "          director                                               cast  \\\n",
       "0  Kirsten Johnson                                                NaN   \n",
       "1              NaN  Ama Qamata, Khosi Ngema, Gail Mabalane, Thaban...   \n",
       "2  Julien Leclercq  Sami Bouajila, Tracy Gotoas, Samuel Jouy, Nabi...   \n",
       "\n",
       "         country          date_added  release_year rating   duration  \\\n",
       "0  United States  September 25, 2021          2020  PG-13     90 min   \n",
       "1   South Africa  September 24, 2021          2021  TV-MA  2 Seasons   \n",
       "2            NaN  September 24, 2021          2021  TV-MA   1 Season   \n",
       "\n",
       "                                           listed_in  \\\n",
       "0                                      Documentaries   \n",
       "1    International TV Shows, TV Dramas, TV Mysteries   \n",
       "2  Crime TV Shows, International TV Shows, TV Act...   \n",
       "\n",
       "                                         description  avaliacao  \n",
       "0  As her father nears the end of his life, filmm...         10  \n",
       "1  After crossing paths at a party, a Cape Town t...         10  \n",
       "2  To protect his family from a powerful drug lor...         10  "
      ]
     },
     "execution_count": 309,
     "metadata": {},
     "output_type": "execute_result"
    }
   ],
   "source": [
    "#impressão das variáveis\n",
    "criacaoVariavel.head(3)"
   ]
  },
  {
   "cell_type": "code",
   "execution_count": 310,
   "metadata": {},
   "outputs": [],
   "source": [
    "#adicionando lista vazia para o dataFrame\n",
    "novaVariavel = ['10'] * len(criacaoVariavel)"
   ]
  },
  {
   "cell_type": "code",
   "execution_count": 311,
   "metadata": {},
   "outputs": [],
   "source": [
    "#adicionar a variavel ao dataFrame\n",
    "criacaoVariavel['avaliacao'] = novaVariavel"
   ]
  },
  {
   "cell_type": "code",
   "execution_count": 312,
   "metadata": {},
   "outputs": [],
   "source": [
    "#incluindo nova variavel e salvado o dataFrame atualizado\n",
    "criacaoVariavel.to_csv('../cp/netflix_titles.csv', index=True)"
   ]
  },
  {
   "cell_type": "code",
   "execution_count": 313,
   "metadata": {},
   "outputs": [
    {
     "name": "stdout",
     "output_type": "stream",
     "text": [
      "   Unnamed: 0.1  Unnamed: 0 show_id   type                 title  \\\n",
      "0             0           0      s1  Movie  Dick Johnson Is Dead   \n",
      "\n",
      "          director cast        country          date_added  release_year  \\\n",
      "0  Kirsten Johnson  NaN  United States  September 25, 2021          2020   \n",
      "\n",
      "  rating duration      listed_in  \\\n",
      "0  PG-13   90 min  Documentaries   \n",
      "\n",
      "                                         description avaliacao  \n",
      "0  As her father nears the end of his life, filmm...        10  \n"
     ]
    }
   ],
   "source": [
    "print(criacaoVariavel.head(1))"
   ]
  },
  {
   "cell_type": "markdown",
   "metadata": {},
   "source": [
    "<h4>Padronização:</h4>"
   ]
  },
  {
   "cell_type": "code",
   "execution_count": 314,
   "metadata": {},
   "outputs": [],
   "source": [
    "from sklearn.preprocessing import StandardScaler"
   ]
  },
  {
   "cell_type": "code",
   "execution_count": 315,
   "metadata": {},
   "outputs": [],
   "source": [
    "# importando skelarn para padronização de dados\n",
    "scaler = StandardScaler()"
   ]
  },
  {
   "cell_type": "code",
   "execution_count": 316,
   "metadata": {},
   "outputs": [],
   "source": [
    "#Cópia do Df para não conflitar com original\n",
    "variavelPadronizada = criacaoVariavel.copy()  # Crie uma cópia do DataFrame"
   ]
  },
  {
   "cell_type": "code",
   "execution_count": 317,
   "metadata": {},
   "outputs": [],
   "source": [
    "#padronizando coluna release year\n",
    "variavelPadronizada['release_year_standardized'] = scaler.fit_transform(criacaoVariavel[['release_year']])"
   ]
  },
  {
   "cell_type": "code",
   "execution_count": 318,
   "metadata": {},
   "outputs": [
    {
     "name": "stdout",
     "output_type": "stream",
     "text": [
      "Média da coluna padronizada: 7.538675284367407e-15\n",
      "Desvio padrão da coluna padronizada: 1.0000567778566818\n"
     ]
    }
   ],
   "source": [
    "media = variavelPadronizada['release_year_standardized'].mean()\n",
    "desvioPadrao = variavelPadronizada['release_year_standardized'].std()\n",
    "\n",
    "print(\"Média da coluna padronizada:\", media)\n",
    "print(\"Desvio padrão da coluna padronizada:\", desvioPadrao)"
   ]
  },
  {
   "cell_type": "code",
   "execution_count": 319,
   "metadata": {},
   "outputs": [
    {
     "data": {
      "image/png": "[encoded data removed]",
      "text/plain": [
       "<Figure size 1500x600 with 1 Axes>"
      ]
     },
     "metadata": {},
     "output_type": "display_data"
    }
   ],
   "source": [
    "# Carregar os dados do CSV para um DataFrame\n",
    "criacaoVariavel = pd.read_csv('../cp/netflix_titles.csv')\n",
    "\n",
    "# Remover espaços extras das datas na coluna 'date_added'\n",
    "criacaoVariavel['date_added'] = criacaoVariavel['date_added'].str.strip()\n",
    "\n",
    "# Converter a coluna 'date_added' para o formato datetime\n",
    "criacaoVariavel['date_added'] = pd.to_datetime(criacaoVariavel['date_added'], errors='coerce')\n",
    "\n",
    "# Agrupar por ano e contar o número de registros por ano\n",
    "data_net = criacaoVariavel['date_added'].dt.year.value_counts().sort_index()\n",
    "\n",
    "# Plotar o gráfico de barras\n",
    "plt.figure(figsize=(15, 6))\n",
    "data_net.plot(kind='bar', color='skyblue')\n",
    "plt.title('Número de Registros por Ano de Adição')\n",
    "plt.xlabel('Ano de Adição')\n",
    "plt.ylabel('Número de Registros')\n",
    "plt.xticks(rotation=45, ha='right')\n",
    "plt.show()"
   ]
  },
  {
   "cell_type": "code",
   "execution_count": 328,
   "metadata": {},
   "outputs": [
    {
     "name": "stderr",
     "output_type": "stream",
     "text": [
      "<>:5: SyntaxWarning: invalid escape sequence '\\d'\n",
      "<>:5: SyntaxWarning: invalid escape sequence '\\d'\n",
      "C:\\Users\\minel\\AppData\\Local\\Temp\\ipykernel_20392\\2048491022.py:5: SyntaxWarning: invalid escape sequence '\\d'\n",
      "  dataFrame['duration'] = dataFrame['duration'].str.extract('(\\d+)').astype(float)\n"
     ]
    },
    {
     "data": {
      "image/png": "[encoded data removed]",
      "text/plain": [
       "<Figure size 640x480 with 2 Axes>"
      ]
     },
     "metadata": {},
     "output_type": "display_data"
    },
    {
     "name": "stdout",
     "output_type": "stream",
     "text": [
      "              precision    recall  f1-score   support\n",
      "\n",
      "       Movie       1.00      1.00      1.00      1214\n",
      "     TV Show       1.00      0.99      1.00       548\n",
      "\n",
      "    accuracy                           1.00      1762\n",
      "   macro avg       1.00      1.00      1.00      1762\n",
      "weighted avg       1.00      1.00      1.00      1762\n",
      "\n"
     ]
    }
   ],
   "source": [
    "# carregando csv da netflix\n",
    "dataFrame = pd.read_csv('../cp/netflix_titles.csv')\n",
    "\n",
    "#removendo strings para nao haver conflitos\n",
    "dataFrame['duration'] = dataFrame['duration'].str.extract('(\\d+)').astype(float)\n",
    "\n",
    "# analisando colunas para plotar diferencas\n",
    "X = dataFrame[['duration', 'release_year']] \n",
    "y = dataFrame['type']  \n",
    "\n",
    "# Dividir os dados em conjuntos de treinamento e teste\n",
    "xTreino, xTeste, yTreino, yTeste = train_test_split(X, y, test_size=0.2, random_state=42)\n",
    "\n",
    "# Treinamento dos\n",
    "modeloTreino = DecisionTreeClassifier()\n",
    "modeloTreino.fit(xTreino, yTreino)\n",
    "\n",
    "# Fazer previsões\n",
    "prev = modeloTreino.predict(xTeste)\n",
    "\n",
    "# \n",
    "calculo = confusion_matrix(yTeste, prev)\n",
    "\n",
    "# Plotar a matriz de confusão\n",
    "sns.heatmap(calculo, annot=True, cmap='Blues', fmt='g', xticklabels=modeloTreino.classes_, yticklabels=modeloTreino.classes_)\n",
    "plt.xlabel('previsto')\n",
    "plt.ylabel('existente')\n",
    "plt.title('Matriz de confusão')\n",
    "plt.show()\n",
    "\n",
    "# printando dados da analise\n",
    "\n",
    "print(classification_report(yTeste, prev))"
   ]
  }
 ],
 "metadata": {
  "kernelspec": {
   "display_name": "Python 3",
   "language": "python",
   "name": "python3"
  },
  "language_info": {
   "codemirror_mode": {
    "name": "ipython",
    "version": 3
   },
   "file_extension": ".py",
   "mimetype": "text/x-python",
   "name": "python",
   "nbconvert_exporter": "python",
   "pygments_lexer": "ipython3",
   "version": "3.12.2"
  }
 },
 "nbformat": 4,
 "nbformat_minor": 2
}
